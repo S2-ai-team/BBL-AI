{
  "nbformat": 4,
  "nbformat_minor": 0,
  "metadata": {
    "colab": {
      "provenance": [],
      "gpuType": "T4",
      "authorship_tag": "ABX9TyPd6CHWgw8Fk1Lu+mpbl0AB",
      "include_colab_link": true
    },
    "kernelspec": {
      "name": "python3",
      "display_name": "Python 3"
    },
    "language_info": {
      "name": "python"
    },
    "accelerator": "GPU"
  },
  "cells": [
    {
      "cell_type": "markdown",
      "metadata": {
        "id": "view-in-github",
        "colab_type": "text"
      },
      "source": [
        "<a href=\"https://colab.research.google.com/github/S2-ai-team/BBL-AI/blob/main/BBL_AI.ipynb\" target=\"_parent\"><img src=\"https://colab.research.google.com/assets/colab-badge.svg\" alt=\"Open In Colab\"/></a>"
      ]
    },
    {
      "cell_type": "markdown",
      "source": [],
      "metadata": {
        "id": "6H7g2IIM9DnG"
      }
    },
    {
      "cell_type": "code",
      "source": [
        "import json\n",
        "import numpy as np\n",
        "import tensorflow as tf\n",
        "from tensorflow.keras.preprocessing.sequence import pad_sequences\n",
        "from sklearn.preprocessing import LabelEncoder\n",
        "from flask import Flask, request, jsonify\n",
        "import os\n",
        "\n",
        "# Colab 환경에 맞춘 경로 설정\n",
        "MODEL_PATH = '/content/rgbcmyw_emotion_model.h5'\n",
        "TOKENIZER_PATH = '/content/rgbcmyw_tokenizer.json'\n",
        "\n",
        "os.environ['TF_CPP_MIN_LOG_LEVEL'] = '3'\n",
        "\n",
        "class Config:\n",
        "    MAX_LEN = 32\n",
        "    MODEL_SAVE_PATH = MODEL_PATH\n",
        "    TOKENIZER_SAVE_PATH = TOKENIZER_PATH\n",
        "    VOCAB_SIZE = 10000\n",
        "\n",
        "\n",
        "def create_model(vocab_size, num_labels):\n",
        "    input_layer = tf.keras.layers.Input(shape=(Config.MAX_LEN,), dtype='float32')\n",
        "    embedding_layer = tf.keras.layers.Embedding(vocab_size, 128)(input_layer)\n",
        "    dropout_layer = tf.keras.layers.Dropout(0.3)(embedding_layer)\n",
        "    conv1 = tf.keras.layers.Conv1D(128, 3, activation='relu')(dropout_layer)\n",
        "    pool1 = tf.keras.layers.GlobalMaxPooling1D()(conv1)\n",
        "    conv2 = tf.keras.layers.Conv1D(128, 4, activation='relu')(dropout_layer)\n",
        "    pool2 = tf.keras.layers.GlobalMaxPooling1D()(conv2)\n",
        "    conv3 = tf.keras.layers.Conv1D(128, 5, activation='relu')(dropout_layer)\n",
        "    pool3 = tf.keras.layers.GlobalMaxPooling1D()(conv3)\n",
        "    concat = tf.keras.layers.Concatenate()([pool1, pool2, pool3])\n",
        "    dense = tf.keras.layers.Dense(128, activation='relu')(concat)\n",
        "    final_dropout = tf.keras.layers.Dropout(0.5)(dense)\n",
        "    output_layer = tf.keras.layers.Dense(num_labels, activation='softmax')(final_dropout)\n",
        "    model = tf.keras.Model(inputs=input_layer, outputs=output_layer)\n",
        "    model.compile(optimizer='adam', loss='sparse_categorical_crossentropy', metrics=['accuracy'])\n",
        "    return model\n",
        "\n",
        "\n",
        "def load_prediction_assets():\n",
        "    if not os.path.exists(Config.TOKENIZER_SAVE_PATH):\n",
        "        print(\"🔥 토크나이저 없음\")\n",
        "        return None, None, None\n",
        "    try:\n",
        "        with open(Config.TOKENIZER_SAVE_PATH, 'r', encoding='utf-8') as f:\n",
        "            tokenizer_json = json.load(f)\n",
        "            tokenizer = tf.keras.preprocessing.text.tokenizer_from_json(tokenizer_json)\n",
        "    except Exception as e:\n",
        "        print(f\"🔥 토크나이저 로드 실패: {e}\")\n",
        "        return None, None, None\n",
        "\n",
        "    emotion_map = {\n",
        "        '분노': 'r', '슬픔': 'b', '기쁨': 'y', '행복': 'r',\n",
        "        '공포': 'c', '혐오': 'm', '놀람': 'w', '중립': 'g'\n",
        "    }\n",
        "    all_labels = sorted(list(set(emotion_map.values())))\n",
        "    le = LabelEncoder()\n",
        "    le.fit(all_labels)\n",
        "\n",
        "    vocab_size = Config.VOCAB_SIZE\n",
        "    num_labels = len(le.classes_)\n",
        "    model = create_model(vocab_size, num_labels)\n",
        "\n",
        "    if not os.path.exists(Config.MODEL_SAVE_PATH):\n",
        "        print(\"🔥 모델 파일 없음\")\n",
        "        return None, None, None\n",
        "    try:\n",
        "        model.load_weights(Config.MODEL_SAVE_PATH)\n",
        "    except Exception as e:\n",
        "        print(f\"🔥 모델 가중치 로드 실패: {e}\")\n",
        "        return None, None, None\n",
        "\n",
        "    return model, tokenizer, le\n",
        "\n",
        "\n",
        "def predict_emotion(text, model, tokenizer, le):\n",
        "    seq = tokenizer.texts_to_sequences([text])\n",
        "    padded_seq = pad_sequences(seq, maxlen=Config.MAX_LEN)\n",
        "    prediction = model.predict(padded_seq, verbose=0)\n",
        "    label_index = np.argmax(prediction)\n",
        "    confidence = np.max(prediction) * 100\n",
        "    predicted_label = le.inverse_transform([label_index])[0]\n",
        "    if predicted_label == 'y' and confidence < 50:\n",
        "        predicted_label = 'r'\n",
        "    return predicted_label, f\"{confidence:.2f}%\"\n",
        "\n",
        "\n",
        "app = Flask(__name__)\n",
        "model, tokenizer, le = load_prediction_assets()\n",
        "\n",
        "@app.route(\"/\", methods=[\"GET\"])\n",
        "def home():\n",
        "    return \"✅ 감정 예측 API 작동 중!\"\n",
        "\n",
        "@app.route(\"/predict\", methods=[\"POST\"])\n",
        "def predict():\n",
        "    if not model or not tokenizer or not le:\n",
        "        return jsonify({\"error\": \"모델 또는 토크나이저 로드 실패\"}), 500\n",
        "    try:\n",
        "        data = request.json\n",
        "        text = data.get(\"text\", \"\")\n",
        "        if not text:\n",
        "            return jsonify({\"error\": \"text 파라미터가 필요합니다.\"}), 400\n",
        "        label, confidence = predict_emotion(text, model, tokenizer, le)\n",
        "        return jsonify({\"label\": label, \"confidence\": confidence})\n",
        "    except Exception as e:\n",
        "        return jsonify({\"error\": str(e)}), 500\n",
        "\n",
        "\n",
        "if __name__ == \"__main__\":\n",
        "    app.run(host=\"0.0.0.0\", port=7860)\n"
      ],
      "metadata": {
        "colab": {
          "base_uri": "https://localhost:8080/"
        },
        "id": "vTG3mZ35-L_s",
        "outputId": "038be84d-c67c-4cae-e1be-4074c2ce9270"
      },
      "execution_count": null,
      "outputs": [
        {
          "output_type": "stream",
          "name": "stdout",
          "text": [
            "🔥 토크나이저 없음\n",
            " * Serving Flask app '__main__'\n",
            " * Debug mode: off\n"
          ]
        },
        {
          "output_type": "stream",
          "name": "stderr",
          "text": [
            "INFO:werkzeug:\u001b[31m\u001b[1mWARNING: This is a development server. Do not use it in a production deployment. Use a production WSGI server instead.\u001b[0m\n",
            " * Running on all addresses (0.0.0.0)\n",
            " * Running on http://127.0.0.1:7860\n",
            " * Running on http://172.28.0.12:7860\n",
            "INFO:werkzeug:\u001b[33mPress CTRL+C to quit\u001b[0m\n"
          ]
        }
      ]
    }
  ]
}